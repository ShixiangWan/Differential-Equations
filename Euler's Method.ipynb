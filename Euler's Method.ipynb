{
 "cells": [
  {
   "cell_type": "markdown",
   "metadata": {},
   "source": [
    "#Implementing Euler's Method"
   ]
  },
  {
   "cell_type": "code",
   "execution_count": 94,
   "metadata": {
    "collapsed": true
   },
   "outputs": [],
   "source": [
    "from __future__ import division #otherwise division might not behave how you expect it to\n",
    "import numpy as np"
   ]
  },
  {
   "cell_type": "markdown",
   "metadata": {},
   "source": [
    "We're assuming we have a differential equation in the form $\\dfrac{dy}{dx} = f(x,y)$. Below we specify what $f(x, y)$ is. In this particular example, then, the equation we're modeling is $\\dfrac{dy}{dx} = 0.2xy$."
   ]
  },
  {
   "cell_type": "code",
   "execution_count": 85,
   "metadata": {
    "collapsed": false
   },
   "outputs": [],
   "source": [
    "def f(x, y):\n",
    "    return 0.2*x*y"
   ]
  },
  {
   "cell_type": "markdown",
   "metadata": {},
   "source": [
    "Below, we specify our initial condition. In this case, we're using y(1) = 1. We also specify the point at which we are interested in knowing the value of the solution; in this case, that's when $x=24$, and we indicate the number of steps we wish to take to get to that solution $(n)$."
   ]
  },
  {
   "cell_type": "code",
   "execution_count": 93,
   "metadata": {
    "collapsed": false
   },
   "outputs": [
    {
     "name": "stdout",
     "output_type": "stream",
     "text": [
      "Initial condition: y(1.000000) = 1.000000\n",
      "Final x-value: x = 24.000000\n",
      "Number of steps to take (n): 10000000\n",
      "Stepsize (h): 0.0000023000\n",
      "\n",
      "Result\n",
      "xi: 23.9999999957\tyi: 9372131250003081714204672.0000000000\n",
      "\n"
     ]
    }
   ],
   "source": [
    "x0 = 1.\n",
    "y0 = 1.\n",
    "xn = 24.\n",
    "n = 10000000 #increase for improved accuracy, slower computation\n",
    "h = (xn - x0)/n \n",
    "print 'Initial condition: y(%f) = %f' % (x0, y0)\n",
    "print 'Final x-value: x = %f' % xn\n",
    "print 'Number of steps to take (n): %d' % n\n",
    "print 'Stepsize (h): %.10f\\n' % h\n",
    "\n",
    "xi = x0 #initialize xi to initial condition\n",
    "yi = y0 #initialize yi to initial condition\n",
    "for i in np.arange(x0, xn, h): #np.arange generates a list of numbers from x0 to xn which are equally spaced by h.\n",
    "    yi = yi+f(xi, yi)*h #the Euler's method step for y\n",
    "    xi += h #the Euler's method step for x\n",
    "print 'Result\\nxi: %.10f\\tyi: %.10f\\n' % (xi, yi) #final result"
   ]
  },
  {
   "cell_type": "markdown",
   "metadata": {},
   "source": [
    "Below, a second example: $\\dfrac{dy}{dx} = x(x-y^2)e^y$."
   ]
  },
  {
   "cell_type": "code",
   "execution_count": 48,
   "metadata": {
    "collapsed": true
   },
   "outputs": [],
   "source": [
    "def f2(x,y):\n",
    "    return x*(x-y**2)*np.exp(y)"
   ]
  },
  {
   "cell_type": "code",
   "execution_count": 92,
   "metadata": {
    "collapsed": false
   },
   "outputs": [
    {
     "name": "stdout",
     "output_type": "stream",
     "text": [
      "Initial condition: y(1.000000) = 1.000000\n",
      "Final x-value: x = 4.000000\n",
      "Number of steps to take (n): 10000000\n",
      "Stepsize (h): 0.0000003000\n",
      "\n",
      "Result\n",
      "xi: 3.9999999995\tyi: 1.9978660273\n"
     ]
    }
   ],
   "source": [
    "x0 = 1.\n",
    "y0 = 1.\n",
    "xn = 4.\n",
    "n = 10000000 #increase for improved accuracy, slower computation\n",
    "h = (xn - x0)/n \n",
    "print 'Initial condition: y(%f) = %f' % (x0, y0)\n",
    "print 'Final x-value: x = %f' % xn\n",
    "print 'Number of steps to take (n): %d' % n\n",
    "print 'Stepsize (h): %.10f\\n' % h\n",
    "\n",
    "xi = x0 #initialize xi to initial condition\n",
    "yi = y0 #initialize yi to initial condition\n",
    "for i in np.arange(x0, xn, h): #np.arange generates a list of numbers from x0 to xn which are equally spaced by h.\n",
    "    yi = yi+f2(xi, yi)*h #the Euler's method step for y\n",
    "    xi += h #the Euler's method step for x\n",
    "print 'Result\\nxi: %.10f\\tyi: %.10f' % (xi, yi) #final result"
   ]
  },
  {
   "cell_type": "code",
   "execution_count": 19,
   "metadata": {
    "collapsed": false
   },
   "outputs": [
    {
     "data": {
      "text/plain": [
       "<matplotlib.quiver.Quiver at 0x10b0f2a50>"
      ]
     },
     "execution_count": 19,
     "metadata": {},
     "output_type": "execute_result"
    },
    {
     "data": {
      "image/png": "[encoded data removed]",
      "text/plain": [
       "<matplotlib.figure.Figure at 0x10f34e450>"
      ]
     },
     "metadata": {},
     "output_type": "display_data"
    }
   ],
   "source": [
    "import matplotlib.pyplot as plt\n",
    "%matplotlib inline\n",
    "\n",
    "X, Y = np.meshgrid(np.arange(-2, 2, 0.2), np.arange(0, 2, 0.2))\n",
    "U = 1\n",
    "V = X*(X-Y**2)*np.exp(Y)\n",
    "plt.quiver(X, Y, U, V)"
   ]
  },
  {
   "cell_type": "code",
   "execution_count": null,
   "metadata": {
    "collapsed": true
   },
   "outputs": [],
   "source": []
  }
 ],
 "metadata": {
  "kernelspec": {
   "display_name": "Python 2",
   "language": "python",
   "name": "python2"
  },
  "language_info": {
   "codemirror_mode": {
    "name": "ipython",
    "version": 2
   },
   "file_extension": ".py",
   "mimetype": "text/x-python",
   "name": "python",
   "nbconvert_exporter": "python",
   "pygments_lexer": "ipython2",
   "version": "2.7.9"
  }
 },
 "nbformat": 4,
 "nbformat_minor": 0
}
